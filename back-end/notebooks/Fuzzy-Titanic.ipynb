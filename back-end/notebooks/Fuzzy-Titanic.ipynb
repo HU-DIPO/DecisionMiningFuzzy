{
 "cells": [
  {
   "cell_type": "markdown",
   "id": "national-inspection",
   "metadata": {},
   "source": [
    "# Showcasing Fuzzy with the Titanic dataset\n",
    "This notebooks contains a Fuzzy decision tree fitted on the Titanic dataset, currently only using the categorical features.\n",
    "\n",
    "Additional packages necessary to run this notebook:\n",
    " - Pandas"
   ]
  },
  {
   "cell_type": "code",
   "execution_count": 1,
   "id": "impaired-doctor",
   "metadata": {},
   "outputs": [],
   "source": [
    "import pandas as pd\n",
    "import numpy as np\n",
    "from sklearn.model_selection import train_test_split\n",
    "from sklearn import tree\n",
    "\n",
    "from INNO.core import fuzzy"
   ]
  },
  {
   "cell_type": "markdown",
   "id": "political-tower",
   "metadata": {},
   "source": [
    "# Loading data\n",
    "Titanic dataset. We're only using the columns \"Pclass\" and \"Sex\" as input, and \"Survived\" as output.\n",
    "- Pclass is passenger class. This column contains the classes 1, 2 and 3.\n",
    "- Sex is the gender listed for the passenger. This column contains the classes \"male\" and \"female\".\n",
    "- Survived is if the passenger survived the disaster or not. It contains the classes 1 (Survived) and 0 (did not survive)."
   ]
  },
  {
   "cell_type": "code",
   "execution_count": 2,
   "id": "sought-message",
   "metadata": {},
   "outputs": [],
   "source": [
    "data = pd.read_csv(r\"https://web.stanford.edu/class/archive/cs/cs109/cs109.1166/stuff/titanic.csv\", usecols=[\"Sex\", \"Pclass\", \"Survived\", \"Age\"])"
   ]
  },
  {
   "cell_type": "code",
   "execution_count": 3,
   "id": "aware-watershed",
   "metadata": {},
   "outputs": [
    {
     "output_type": "execute_result",
     "data": {
      "text/plain": [
       "   Survived  Pclass     Sex   Age\n",
       "0         0       3    male  22.0\n",
       "1         1       1  female  38.0\n",
       "2         1       3  female  26.0\n",
       "3         1       1  female  35.0\n",
       "4         0       3    male  35.0"
      ],
      "text/html": "<div>\n<style scoped>\n    .dataframe tbody tr th:only-of-type {\n        vertical-align: middle;\n    }\n\n    .dataframe tbody tr th {\n        vertical-align: top;\n    }\n\n    .dataframe thead th {\n        text-align: right;\n    }\n</style>\n<table border=\"1\" class=\"dataframe\">\n  <thead>\n    <tr style=\"text-align: right;\">\n      <th></th>\n      <th>Survived</th>\n      <th>Pclass</th>\n      <th>Sex</th>\n      <th>Age</th>\n    </tr>\n  </thead>\n  <tbody>\n    <tr>\n      <th>0</th>\n      <td>0</td>\n      <td>3</td>\n      <td>male</td>\n      <td>22.0</td>\n    </tr>\n    <tr>\n      <th>1</th>\n      <td>1</td>\n      <td>1</td>\n      <td>female</td>\n      <td>38.0</td>\n    </tr>\n    <tr>\n      <th>2</th>\n      <td>1</td>\n      <td>3</td>\n      <td>female</td>\n      <td>26.0</td>\n    </tr>\n    <tr>\n      <th>3</th>\n      <td>1</td>\n      <td>1</td>\n      <td>female</td>\n      <td>35.0</td>\n    </tr>\n    <tr>\n      <th>4</th>\n      <td>0</td>\n      <td>3</td>\n      <td>male</td>\n      <td>35.0</td>\n    </tr>\n  </tbody>\n</table>\n</div>"
     },
     "metadata": {},
     "execution_count": 3
    }
   ],
   "source": [
    "data.head()"
   ]
  },
  {
   "cell_type": "code",
   "execution_count": 4,
   "id": "conscious-scratch",
   "metadata": {},
   "outputs": [
    {
     "output_type": "execute_result",
     "data": {
      "text/plain": [
       "          Survived      Pclass   Sex         Age\n",
       "count   887.000000  887.000000   887  887.000000\n",
       "unique         NaN         NaN     2         NaN\n",
       "top            NaN         NaN  male         NaN\n",
       "freq           NaN         NaN   573         NaN\n",
       "mean      0.385569    2.305524   NaN   29.471443\n",
       "std       0.487004    0.836662   NaN   14.121908\n",
       "min       0.000000    1.000000   NaN    0.420000\n",
       "25%       0.000000    2.000000   NaN   20.250000\n",
       "50%       0.000000    3.000000   NaN   28.000000\n",
       "75%       1.000000    3.000000   NaN   38.000000\n",
       "max       1.000000    3.000000   NaN   80.000000"
      ],
      "text/html": "<div>\n<style scoped>\n    .dataframe tbody tr th:only-of-type {\n        vertical-align: middle;\n    }\n\n    .dataframe tbody tr th {\n        vertical-align: top;\n    }\n\n    .dataframe thead th {\n        text-align: right;\n    }\n</style>\n<table border=\"1\" class=\"dataframe\">\n  <thead>\n    <tr style=\"text-align: right;\">\n      <th></th>\n      <th>Survived</th>\n      <th>Pclass</th>\n      <th>Sex</th>\n      <th>Age</th>\n    </tr>\n  </thead>\n  <tbody>\n    <tr>\n      <th>count</th>\n      <td>887.000000</td>\n      <td>887.000000</td>\n      <td>887</td>\n      <td>887.000000</td>\n    </tr>\n    <tr>\n      <th>unique</th>\n      <td>NaN</td>\n      <td>NaN</td>\n      <td>2</td>\n      <td>NaN</td>\n    </tr>\n    <tr>\n      <th>top</th>\n      <td>NaN</td>\n      <td>NaN</td>\n      <td>male</td>\n      <td>NaN</td>\n    </tr>\n    <tr>\n      <th>freq</th>\n      <td>NaN</td>\n      <td>NaN</td>\n      <td>573</td>\n      <td>NaN</td>\n    </tr>\n    <tr>\n      <th>mean</th>\n      <td>0.385569</td>\n      <td>2.305524</td>\n      <td>NaN</td>\n      <td>29.471443</td>\n    </tr>\n    <tr>\n      <th>std</th>\n      <td>0.487004</td>\n      <td>0.836662</td>\n      <td>NaN</td>\n      <td>14.121908</td>\n    </tr>\n    <tr>\n      <th>min</th>\n      <td>0.000000</td>\n      <td>1.000000</td>\n      <td>NaN</td>\n      <td>0.420000</td>\n    </tr>\n    <tr>\n      <th>25%</th>\n      <td>0.000000</td>\n      <td>2.000000</td>\n      <td>NaN</td>\n      <td>20.250000</td>\n    </tr>\n    <tr>\n      <th>50%</th>\n      <td>0.000000</td>\n      <td>3.000000</td>\n      <td>NaN</td>\n      <td>28.000000</td>\n    </tr>\n    <tr>\n      <th>75%</th>\n      <td>1.000000</td>\n      <td>3.000000</td>\n      <td>NaN</td>\n      <td>38.000000</td>\n    </tr>\n    <tr>\n      <th>max</th>\n      <td>1.000000</td>\n      <td>3.000000</td>\n      <td>NaN</td>\n      <td>80.000000</td>\n    </tr>\n  </tbody>\n</table>\n</div>"
     },
     "metadata": {},
     "execution_count": 4
    }
   ],
   "source": [
    "data.describe(include=\"all\")"
   ]
  },
  {
   "cell_type": "code",
   "execution_count": 5,
   "id": "graduate-africa",
   "metadata": {},
   "outputs": [],
   "source": [
    "X = data.drop(\"Survived\", axis=1).to_numpy()\n",
    "y = data[\"Survived\"].to_numpy()"
   ]
  },
  {
   "cell_type": "code",
   "execution_count": 6,
   "id": "negative-norwegian",
   "metadata": {},
   "outputs": [],
   "source": [
    "X_train, X_test, y_train, y_test = train_test_split(X, y, random_state=42)"
   ]
  },
  {
   "cell_type": "code",
   "execution_count": 7,
   "metadata": {},
   "outputs": [],
   "source": [
    "X_train[:,1] = X_train[:,1] == \"female\"\n",
    "X_test[:,1] = X_test[:,1] == \"female\""
   ]
  },
  {
   "cell_type": "code",
   "execution_count": 8,
   "metadata": {},
   "outputs": [],
   "source": [
    "X_train = X_train.astype(int)\n",
    "X_test = X_test.astype(int)"
   ]
  },
  {
   "cell_type": "markdown",
   "id": "premium-liberia",
   "metadata": {},
   "source": [
    "# Comparing Performance\n",
    "We will be comparing the performance of Fuzzy with SKlearn's CART.\n",
    "\n",
    "#### Fuzzy's speed"
   ]
  },
  {
   "cell_type": "code",
   "execution_count": 9,
   "id": "innovative-blood",
   "metadata": {},
   "outputs": [
    {
     "output_type": "stream",
     "name": "stdout",
     "text": [
      "165 ms ± 21.6 ms per loop (mean ± std. dev. of 7 runs, 1 loop each)\n"
     ]
    }
   ],
   "source": [
    "%%timeit\n",
    "predictor = fuzzy.FuzzyClassifier(np.array([2]))\n",
    "predictor.fit(X_train, y_train, 0.3)\n",
    "predictor.score(X_test, y_test)"
   ]
  },
  {
   "source": [
    "#### Fuzzy's accuracy"
   ],
   "cell_type": "markdown",
   "metadata": {}
  },
  {
   "cell_type": "code",
   "execution_count": 10,
   "metadata": {},
   "outputs": [
    {
     "output_type": "execute_result",
     "data": {
      "text/plain": [
       "0.7477477477477478"
      ]
     },
     "metadata": {},
     "execution_count": 10
    }
   ],
   "source": [
    "predictor = fuzzy.FuzzyClassifier(np.array([2]))\n",
    "predictor.fit(X_train, y_train, 0.3)\n",
    "predictor.score(X_test, y_test)"
   ]
  },
  {
   "cell_type": "markdown",
   "id": "economic-preparation",
   "metadata": {},
   "source": [
    "#### CART's speed"
   ]
  },
  {
   "cell_type": "code",
   "execution_count": 11,
   "id": "sticky-incentive",
   "metadata": {},
   "outputs": [
    {
     "output_type": "stream",
     "name": "stdout",
     "text": [
      "885 µs ± 24 µs per loop (mean ± std. dev. of 7 runs, 1000 loops each)\n"
     ]
    }
   ],
   "source": [
    "%%timeit\n",
    "clf = tree.DecisionTreeClassifier()\n",
    "clf = clf.fit(X_train, y_train)\n",
    "clf.score(X_test, y_test)"
   ]
  },
  {
   "cell_type": "markdown",
   "id": "supported-latex",
   "metadata": {},
   "source": [
    "#### CART's accuracy"
   ]
  },
  {
   "cell_type": "code",
   "execution_count": 12,
   "id": "fallen-latin",
   "metadata": {},
   "outputs": [
    {
     "output_type": "execute_result",
     "data": {
      "text/plain": [
       "0.5765765765765766"
      ]
     },
     "metadata": {},
     "execution_count": 12
    }
   ],
   "source": [
    "clf = tree.DecisionTreeClassifier()\n",
    "clf = clf.fit(X_train, y_train)\n",
    "clf.score(X_test, y_test)"
   ]
  },
  {
   "source": [
    "## Test Prediction"
   ],
   "cell_type": "markdown",
   "metadata": {}
  },
  {
   "cell_type": "code",
   "execution_count": 13,
   "id": "bright-auditor",
   "metadata": {},
   "outputs": [
    {
     "output_type": "execute_result",
     "data": {
      "text/plain": [
       "array([1, 1, 1], dtype=int64)"
      ]
     },
     "metadata": {},
     "execution_count": 13
    }
   ],
   "source": [
    "clf.predict([[1, 1, 20], [2, 1, 20], [3, 1, 5]])  # 1 == female"
   ]
  },
  {
   "cell_type": "code",
   "execution_count": 14,
   "id": "skilled-drink",
   "metadata": {},
   "outputs": [
    {
     "output_type": "execute_result",
     "data": {
      "text/plain": [
       "array([1, 1, 1], dtype=int64)"
      ]
     },
     "metadata": {},
     "execution_count": 14
    }
   ],
   "source": [
    "predictor.predict(np.array([[1, 1, 20], [2, 1, 20], [3, 1, 5]], dtype=int))  # 1 == female"
   ]
  },
  {
   "cell_type": "markdown",
   "id": "competitive-merchandise",
   "metadata": {},
   "source": [
    "Second of all, it appears that adult men, no matter the passenger class, do not survive."
   ]
  },
  {
   "cell_type": "code",
   "execution_count": 15,
   "id": "weird-motorcycle",
   "metadata": {},
   "outputs": [
    {
     "output_type": "execute_result",
     "data": {
      "text/plain": [
       "array([0, 0, 0], dtype=int64)"
      ]
     },
     "metadata": {},
     "execution_count": 15
    }
   ],
   "source": [
    "predictor.predict(np.array([[1, 0, 20], [2, 0, 10], [3, 0, 3]], dtype=int))  # 0 == female"
   ]
  },
  {
   "cell_type": "code",
   "execution_count": 16,
   "id": "provincial-throat",
   "metadata": {},
   "outputs": [
    {
     "output_type": "execute_result",
     "data": {
      "text/plain": [
       "array([0, 0, 0], dtype=int64)"
      ]
     },
     "metadata": {},
     "execution_count": 16
    }
   ],
   "source": [
    "clf.predict([[1, 0, 20], [2, 0, 20], [3, 0, 20]])  # 0 == male"
   ]
  }
 ],
 "metadata": {
  "kernelspec": {
   "name": "python3",
   "display_name": "Python 3.8.7 64-bit ('venv': venv)"
  },
  "language_info": {
   "codemirror_mode": {
    "name": "ipython",
    "version": 3
   },
   "file_extension": ".py",
   "mimetype": "text/x-python",
   "name": "python",
   "nbconvert_exporter": "python",
   "pygments_lexer": "ipython3",
   "version": "3.8.7"
  },
  "metadata": {
   "interpreter": {
    "hash": "338114681e1aade9cc8370af56c751ea3aed12b920c400a7d6af5e6e22070cf4"
   }
  },
  "interpreter": {
   "hash": "6d471539d7971923c4af8adf93a731e28fca6f4fa6d5fc381f8b1e637eb81347"
  }
 },
 "nbformat": 4,
 "nbformat_minor": 5
}